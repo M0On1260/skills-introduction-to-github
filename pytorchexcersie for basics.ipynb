{
  "nbformat": 4,
  "nbformat_minor": 0,
  "metadata": {
    "colab": {
      "provenance": [],
      "gpuType": "T4",
      "authorship_tag": "ABX9TyNEFqE8a+L0kZI86fkAlLHU",
      "include_colab_link": true
    },
    "kernelspec": {
      "name": "python3",
      "display_name": "Python 3"
    },
    "language_info": {
      "name": "python"
    },
    "accelerator": "GPU"
  },
  "cells": [
    {
      "cell_type": "markdown",
      "metadata": {
        "id": "view-in-github",
        "colab_type": "text"
      },
      "source": [
        "<a href=\"https://colab.research.google.com/github/M0On1260/skills-introduction-to-github/blob/main/pytorchexcersie%20for%20basics.ipynb\" target=\"_parent\"><img src=\"https://colab.research.google.com/assets/colab-badge.svg\" alt=\"Open In Colab\"/></a>"
      ]
    },
    {
      "cell_type": "code",
      "execution_count": 6,
      "metadata": {
        "colab": {
          "base_uri": "https://localhost:8080/"
        },
        "id": "zbuDaFvYTxWE",
        "outputId": "feb0f4ae-5b6d-474a-d6a8-9a37d9b594d4"
      },
      "outputs": [
        {
          "output_type": "stream",
          "name": "stdout",
          "text": [
            "True\n"
          ]
        },
        {
          "output_type": "execute_result",
          "data": {
            "text/plain": [
              "tensor(0.3647, device='cuda:0')"
            ]
          },
          "metadata": {},
          "execution_count": 6
        }
      ],
      "source": [
        "import torch\n",
        "torch.manual_seed(1234)\n",
        "torch1 = torch.rand(2,3)\n",
        "torch2 = torch.rand(2,3)\n",
        "torch1,torch2\n",
        "print(torch.cuda.is_available())\n",
        "device = \"cuda\" if torch.cuda.is_available() else \"cpu\"\n",
        "torch1 = torch1.to(device)\n",
        "torch2 = torch2.to(device)\n",
        "torch1,torch2,device\n",
        "multi = torch.matmul(torch1,torch2.T)\n",
        "multi\n",
        "torch.min(multi)\n"
      ]
    },
    {
      "cell_type": "code",
      "source": [
        "torch.max(multi)"
      ],
      "metadata": {
        "colab": {
          "base_uri": "https://localhost:8080/"
        },
        "id": "l89LiqxNYB1K",
        "outputId": "7473f7d6-98f8-4fa5-d056-e170a52e8eab"
      },
      "execution_count": 7,
      "outputs": [
        {
          "output_type": "execute_result",
          "data": {
            "text/plain": [
              "tensor(0.5617, device='cuda:0')"
            ]
          },
          "metadata": {},
          "execution_count": 7
        }
      ]
    },
    {
      "cell_type": "code",
      "source": [
        "torch.argmax(multi)"
      ],
      "metadata": {
        "colab": {
          "base_uri": "https://localhost:8080/"
        },
        "id": "X6AYTTGmYIhH",
        "outputId": "ad6c574e-924e-4536-e348-5203bcc1e499"
      },
      "execution_count": 8,
      "outputs": [
        {
          "output_type": "execute_result",
          "data": {
            "text/plain": [
              "tensor(3, device='cuda:0')"
            ]
          },
          "metadata": {},
          "execution_count": 8
        }
      ]
    },
    {
      "cell_type": "code",
      "source": [
        "torch.argmin(multi)"
      ],
      "metadata": {
        "colab": {
          "base_uri": "https://localhost:8080/"
        },
        "id": "k-nY44oPYTi5",
        "outputId": "0b985176-2cd1-4fb8-d06b-70f687aeb7bb"
      },
      "execution_count": 9,
      "outputs": [
        {
          "output_type": "execute_result",
          "data": {
            "text/plain": [
              "tensor(0, device='cuda:0')"
            ]
          },
          "metadata": {},
          "execution_count": 9
        }
      ]
    },
    {
      "cell_type": "code",
      "source": [
        "import torch\n",
        "torch.manual_seed(1234)\n",
        "tensorA = torch.rand(7,7)\n",
        "tensorB = torch.rand(1,7)\n",
        "tensorA,tensorB\n",
        "multi = torch.matmul(tensorA,tensorB.T)\n",
        "multi\n",
        "torch.device(\"cuda\")\n",
        "torch.cuda.manual_seed(1234)"
      ],
      "metadata": {
        "id": "o1DbpxQcT2rg"
      },
      "execution_count": 10,
      "outputs": []
    },
    {
      "cell_type": "code",
      "source": [
        "import torch\n",
        "torch.manual_seed(7)\n",
        "tensor = torch.rand(1,1,1,10)\n",
        "removed_tensor = tensor.squeeze()\n",
        "tensor,tensor.shape,removed_tensor,removed_tensor.shape\n",
        "\n"
      ],
      "metadata": {
        "colab": {
          "base_uri": "https://localhost:8080/"
        },
        "id": "4iHXPbcJlIa8",
        "outputId": "4c47d61a-31b1-4161-b698-0aa717cf247f"
      },
      "execution_count": 11,
      "outputs": [
        {
          "output_type": "execute_result",
          "data": {
            "text/plain": [
              "(tensor([[[[0.5349, 0.1988, 0.6592, 0.6569, 0.2328, 0.4251, 0.2071, 0.6297,\n",
              "            0.3653, 0.8513]]]]),\n",
              " torch.Size([1, 1, 1, 10]),\n",
              " tensor([0.5349, 0.1988, 0.6592, 0.6569, 0.2328, 0.4251, 0.2071, 0.6297, 0.3653,\n",
              "         0.8513]),\n",
              " torch.Size([10]))"
            ]
          },
          "metadata": {},
          "execution_count": 11
        }
      ]
    }
  ]
}